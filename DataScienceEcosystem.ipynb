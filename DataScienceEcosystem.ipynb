{
  "metadata": {
    "kernelspec": {
      "name": "python",
      "display_name": "Python (Pyodide)",
      "language": "python"
    },
    "language_info": {
      "codemirror_mode": {
        "name": "python",
        "version": 3
      },
      "file_extension": ".py",
      "mimetype": "text/x-python",
      "name": "python",
      "nbconvert_exporter": "python",
      "pygments_lexer": "ipython3",
      "version": "3.8"
    }
  },
  "nbformat_minor": 5,
  "nbformat": 4,
  "cells": [
    {
      "id": "04a112dd-391e-4164-b9b0-67d6319d266c",
      "cell_type": "markdown",
      "source": "# Data Science Tools And Ecosystem",
      "metadata": {}
    },
    {
      "id": "2b291258-6251-478d-b0c2-24fd69fe2df4",
      "cell_type": "markdown",
      "source": "# Data Science Tools And Ecosystem",
      "metadata": {}
    },
    {
      "id": "67614cf5-93b4-4621-a20c-847552b652d6",
      "cell_type": "markdown",
      "source": "In this notebook, Data Science Tools and Ecosystem are summarized.",
      "metadata": {}
    },
    {
      "id": "ac7916cb-37c9-4946-b55d-fb4da5e5c9fd",
      "cell_type": "markdown",
      "source": "## Objectives\n- Learn about Data Science languages\n- Explore common Data Science libraries\n- Understand Data Science tools\n- Perform arithmetic operations in Python\n- Convert time units using Python",
      "metadata": {}
    },
    {
      "id": "568e60fa-dfe5-42a9-b7eb-d7dc7728e5ba",
      "cell_type": "markdown",
      "source": "In this notebook, Data Science Tools and Ecosystem are summarized.",
      "metadata": {}
    },
    {
      "id": "0c6d2646-8950-45ba-9910-582c5f329efe",
      "cell_type": "markdown",
      "source": "## Objectives\n- Learn about Data Science languages\n- Explore common Data Science libraries\n- Understand Data Science tools\n- Perform arithmetic operations in Python\n- Convert time units using Python",
      "metadata": {}
    },
    {
      "id": "d6a3a832-a2b8-4c31-a59e-2a11bc28e07c",
      "cell_type": "markdown",
      "source": "Some of the popular languages that Data Scientists use are:\n1. Python\n2. R\n3. SQL\n4. Julia\n5. Scala",
      "metadata": {}
    },
    {
      "id": "26201f4e-84cc-45dc-b59d-7232c57457ff",
      "cell_type": "markdown",
      "source": "Some of the popular languages that Data Scientists use are:\n1. Python\n2. R\n3. SQL\n4. Julia\n5. Scala",
      "metadata": {}
    },
    {
      "id": "750ed2b4-769a-4058-aff1-8bf0afec5a6c",
      "cell_type": "markdown",
      "source": "Some of the commonly used libraries used by Data Scientists include:\n1. NumPy\n2. Pandas\n3. Matplotlib\n4. Scikit-learn\n5. TensorFlow\n6. PyTorch",
      "metadata": {}
    },
    {
      "id": "c7e38b96-b0a2-4a12-8ad8-7fd994612ee8",
      "cell_type": "markdown",
      "source": "Some of the commonly used libraries used by Data Scientists include:\n1. NumPy\n2. Pandas\n3. Matplotlib\n4. Scikit-learn\n5. TensorFlow\n6. PyTorch",
      "metadata": {}
    },
    {
      "id": "817497a2-809c-4f02-81cc-f6c8da23ef97",
      "cell_type": "markdown",
      "source": "| Data Science Tools |\n|--------------------|\n| Jupyter Notebook |\n| RStudio |\n| Apache Spark |",
      "metadata": {}
    },
    {
      "id": "7544e814-bce0-4b9c-baf5-f6aec1f50c0a",
      "cell_type": "markdown",
      "source": "| Data Science Tools |\n|--------------------|\n| Jupyter Notebook |\n| RStudio |\n| Apache Spark |",
      "metadata": {}
    },
    {
      "id": "5fbce10c-48ee-4a2e-93c8-1377681a1ea4",
      "cell_type": "markdown",
      "source": "### Below are a few examples of evaluating arithmetic expressions in Python",
      "metadata": {}
    },
    {
      "id": "7dc23e54-913e-45d0-ad86-21333c709b59",
      "cell_type": "markdown",
      "source": "### Below are a few examples of evaluating arithmetic expressions in Python",
      "metadata": {}
    },
    {
      "id": "68f10490-9aa0-414d-ab73-664d8d2ba173",
      "cell_type": "code",
      "source": "#This a simple arithmetic expression to mutiply then add integers\nprint((3*4)+5)",
      "metadata": {
        "trusted": true
      },
      "outputs": [
        {
          "name": "stdout",
          "output_type": "stream",
          "text": "17\n"
        }
      ],
      "execution_count": 2
    },
    {
      "id": "adb85c2d-60a7-4b95-82b0-c7b79082ecb5",
      "cell_type": "code",
      "source": "#This will convert 200 minutes to hours by diving by 60\nprint(\"200 Minutes to hours: \",200/60)",
      "metadata": {
        "trusted": true
      },
      "outputs": [
        {
          "name": "stdout",
          "output_type": "stream",
          "text": "200 Minutes to hours:  3.3333333333333335\n"
        }
      ],
      "execution_count": 4
    },
    {
      "id": "6b2726fe-0ddd-4f35-a453-5ab2e5452c3e",
      "cell_type": "markdown",
      "source": "## Author\nDibyadyuti Mohanty",
      "metadata": {}
    },
    {
      "id": "443ad4c8-8575-47b7-bda0-dcc8ce68f125",
      "cell_type": "markdown",
      "source": "## Author\nDibyadyuti Mohanty",
      "metadata": {}
    },
    {
      "id": "a590e246-8078-4378-ae2f-1ad656860e17",
      "cell_type": "code",
      "source": "",
      "metadata": {
        "trusted": true
      },
      "outputs": [],
      "execution_count": null
    }
  ]
}